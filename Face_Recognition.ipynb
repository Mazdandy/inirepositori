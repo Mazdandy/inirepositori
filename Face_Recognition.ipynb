{
  "nbformat": 4,
  "nbformat_minor": 0,
  "metadata": {
    "colab": {
      "name": "Face Recognition.ipynb",
      "provenance": [],
      "authorship_tag": "ABX9TyPh8hSQEfxMQjT5YlHhilUl",
      "include_colab_link": true
    },
    "kernelspec": {
      "name": "python3",
      "display_name": "Python 3"
    },
    "language_info": {
      "name": "python"
    },
    "accelerator": "GPU"
  },
  "cells": [
    {
      "cell_type": "markdown",
      "metadata": {
        "id": "view-in-github",
        "colab_type": "text"
      },
      "source": [
        "<a href=\"https://colab.research.google.com/github/Mazdandy/inirepositori/blob/main/Face_Recognition.ipynb\" target=\"_parent\"><img src=\"https://colab.research.google.com/assets/colab-badge.svg\" alt=\"Open In Colab\"/></a>"
      ]
    },
    {
      "cell_type": "code",
      "metadata": {
        "id": "5MZnOXazaDbW",
        "colab": {
          "base_uri": "https://localhost:8080/"
        },
        "outputId": "cdf6911f-32a4-4f51-f504-98dd68a3d790"
      },
      "source": [
        "!pip install face_recognition\n",
        "import cv2\n",
        "import numpy as np\n",
        "import face_recognition\n",
        "import os"
      ],
      "execution_count": 32,
      "outputs": [
        {
          "output_type": "stream",
          "text": [
            "Requirement already satisfied: face_recognition in /usr/local/lib/python3.7/dist-packages (1.3.0)\n",
            "Requirement already satisfied: dlib>=19.7 in /usr/local/lib/python3.7/dist-packages (from face_recognition) (19.18.0)\n",
            "Requirement already satisfied: Click>=6.0 in /usr/local/lib/python3.7/dist-packages (from face_recognition) (7.1.2)\n",
            "Requirement already satisfied: Pillow in /usr/local/lib/python3.7/dist-packages (from face_recognition) (7.1.2)\n",
            "Requirement already satisfied: face-recognition-models>=0.3.0 in /usr/local/lib/python3.7/dist-packages (from face_recognition) (0.3.0)\n",
            "Requirement already satisfied: numpy in /usr/local/lib/python3.7/dist-packages (from face_recognition) (1.19.5)\n"
          ],
          "name": "stdout"
        }
      ]
    },
    {
      "cell_type": "code",
      "metadata": {
        "id": "Prs-oTPqhmlk",
        "colab": {
          "base_uri": "https://localhost:8080/"
        },
        "outputId": "695fa6a4-743f-428a-86c7-c8c835e4ef4f"
      },
      "source": [
        "path='unlisted/'\n",
        "test='test/'\n",
        "images = []\n",
        "imagestest = []\n",
        "className = []\n",
        "myList = os.listdir(path)\n",
        "listTest = os.listdir(test)\n",
        "print(myList)\n",
        "print(listTest)"
      ],
      "execution_count": 33,
      "outputs": [
        {
          "output_type": "stream",
          "text": [
            "['ElonMusk.jpg', 'MarkZuckerBerg.jpg']\n",
            "['elontest.jpg', 'marktest.jpg']\n"
          ],
          "name": "stdout"
        }
      ]
    },
    {
      "cell_type": "code",
      "metadata": {
        "colab": {
          "base_uri": "https://localhost:8080/"
        },
        "id": "xCZ3RILnsoz4",
        "outputId": "9ec03105-888c-4d00-ffe3-797d6f7ef947"
      },
      "source": [
        "for name in myList:\n",
        "  curImage = cv2.imread(f'{path}/{name}',0)\n",
        "  images.append(curImage)  \n",
        "  className.append(os.path.splitext(name)[0])\n",
        "print(className)\n",
        "imagestest = cv2.imread(f'test/elontest.jpg',0)"
      ],
      "execution_count": 34,
      "outputs": [
        {
          "output_type": "stream",
          "text": [
            "['ElonMusk', 'MarkZuckerBerg']\n"
          ],
          "name": "stdout"
        }
      ]
    },
    {
      "cell_type": "code",
      "metadata": {
        "colab": {
          "base_uri": "https://localhost:8080/"
        },
        "id": "ii0l4ofawMis",
        "outputId": "9609229c-15ff-4b80-9703-4d5a5b2982cb"
      },
      "source": [
        "imagestest"
      ],
      "execution_count": 35,
      "outputs": [
        {
          "output_type": "execute_result",
          "data": {
            "text/plain": [
              "array([[ 3,  3,  3, ..., 33, 33, 33],\n",
              "       [ 3,  3,  3, ..., 33, 33, 33],\n",
              "       [ 3,  3,  3, ..., 33, 33, 33],\n",
              "       ...,\n",
              "       [17, 16, 14, ..., 35, 34, 34],\n",
              "       [17, 15, 14, ..., 35, 34, 34],\n",
              "       [17, 15, 13, ..., 35, 34, 34]], dtype=uint8)"
            ]
          },
          "metadata": {
            "tags": []
          },
          "execution_count": 35
        }
      ]
    },
    {
      "cell_type": "code",
      "metadata": {
        "id": "7T7nc19Yu686"
      },
      "source": [
        "def findEncoding(images):\n",
        "  encodeList = []\n",
        "  for img in images:\n",
        "    img = cv2.cvtColor(img, cv2.COLOR_BAYER_BG2RGB)\n",
        "    encode = face_recognition.face_encodings(img)[0]\n",
        "    encodeList.append(encode)\n",
        "  return encodeList"
      ],
      "execution_count": 39,
      "outputs": []
    },
    {
      "cell_type": "code",
      "metadata": {
        "colab": {
          "base_uri": "https://localhost:8080/"
        },
        "id": "Y133oqtlsN78",
        "outputId": "a3fa6c98-3b99-49b2-9846-4736959bd131"
      },
      "source": [
        "images"
      ],
      "execution_count": 20,
      "outputs": [
        {
          "output_type": "execute_result",
          "data": {
            "text/plain": [
              "[array([[ 77,  77,  77, ...,  78,  77,  76],\n",
              "        [ 78,  78,  77, ...,  76,  75,  75],\n",
              "        [ 77,  76,  75, ...,  76,  76,  75],\n",
              "        ...,\n",
              "        [ 31,  29,  29, ..., 147, 124, 132],\n",
              "        [ 31,  29,  29, ..., 142, 128, 135],\n",
              "        [ 31,  29,  29, ..., 137, 132, 136]], dtype=uint8),\n",
              " array([[19, 19, 19, ..., 24, 24, 24],\n",
              "        [19, 19, 19, ..., 24, 24, 24],\n",
              "        [19, 19, 19, ..., 24, 24, 24],\n",
              "        ...,\n",
              "        [70, 68, 66, ..., 66, 66, 66],\n",
              "        [69, 68, 67, ..., 67, 65, 64],\n",
              "        [67, 67, 67, ..., 67, 65, 63]], dtype=uint8)]"
            ]
          },
          "metadata": {
            "tags": []
          },
          "execution_count": 20
        }
      ]
    },
    {
      "cell_type": "code",
      "metadata": {
        "id": "k6YfS7WBvbb4"
      },
      "source": [
        "encodeListKnown = findEncoding(images)\n",
        "imagestest = cv2.cvtColor(imagestest, cv2.COLOR_BAYER_BG2RGB)\n",
        "encodeTest = face_recognition.face_encodings(imagestest)[0]\n",
        "\n"
      ],
      "execution_count": 41,
      "outputs": []
    },
    {
      "cell_type": "code",
      "metadata": {
        "id": "EYWGXQZ1v5Fw"
      },
      "source": [
        "results = face_recognition.compare_faces(encodeListKnown, encodeTest)"
      ],
      "execution_count": 42,
      "outputs": []
    },
    {
      "cell_type": "code",
      "metadata": {
        "colab": {
          "base_uri": "https://localhost:8080/"
        },
        "id": "hwho5FTAzGwX",
        "outputId": "52515b3f-3c3e-4012-97aa-1bc8c445ea04"
      },
      "source": [
        "for i in results:\n",
        "  if results[i] == True:\n",
        "    print(\"It's a picture \" + className[i])"
      ],
      "execution_count": 48,
      "outputs": [
        {
          "output_type": "stream",
          "text": [
            "It's a picture ElonMusk\n"
          ],
          "name": "stdout"
        },
        {
          "output_type": "stream",
          "text": [
            "/usr/local/lib/python3.7/dist-packages/ipykernel_launcher.py:2: DeprecationWarning: In future, it will be an error for 'np.bool_' scalars to be interpreted as an index\n",
            "  \n",
            "/usr/local/lib/python3.7/dist-packages/ipykernel_launcher.py:3: DeprecationWarning: In future, it will be an error for 'np.bool_' scalars to be interpreted as an index\n",
            "  This is separate from the ipykernel package so we can avoid doing imports until\n"
          ],
          "name": "stderr"
        }
      ]
    },
    {
      "cell_type": "code",
      "metadata": {
        "id": "N2d8Unel3XlI"
      },
      "source": [
        ""
      ],
      "execution_count": null,
      "outputs": []
    }
  ]
}